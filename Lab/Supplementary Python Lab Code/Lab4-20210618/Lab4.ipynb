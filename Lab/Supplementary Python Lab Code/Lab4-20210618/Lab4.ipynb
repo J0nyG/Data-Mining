{
 "cells": [
  {
   "cell_type": "markdown",
   "metadata": {},
   "source": [
    "# Cross-Validation and the Bootstrap\n",
    "# STAT318/462 Lab4\n",
    "### Cross-Validation and the Bootstrap\n",
    "In this lab you will work through Section 5.3 of the course textbook, An Introduction to Statistical Learning (there is a link to this textbook on the Learn page). \n",
    "\n",
    "# The Validation Set Approach\n",
    "The first thing to do is to load the necessary package and briefly explore the data set called **Auto**"
   ]
  },
  {
   "cell_type": "code",
   "execution_count": null,
   "metadata": {},
   "outputs": [],
   "source": [
    "import pandas as pd\n",
    "import numpy as np\n",
    "import matplotlib.pyplot as plt\n",
    "import statsmodels.api as sm"
   ]
  },
  {
   "cell_type": "code",
   "execution_count": null,
   "metadata": {},
   "outputs": [],
   "source": [
    "auto = pd.read_csv(\"Auto.csv\", na_values=\"?\") \n",
    "auto = auto.dropna()\n",
    "\n",
    "np.random.seed(10)\n",
    "auto.shape"
   ]
  },
  {
   "cell_type": "code",
   "execution_count": null,
   "metadata": {},
   "outputs": [],
   "source": [
    "auto.columns"
   ]
  },
  {
   "cell_type": "code",
   "execution_count": null,
   "metadata": {},
   "outputs": [],
   "source": [
    "auto[0:4]"
   ]
  },
  {
   "cell_type": "markdown",
   "metadata": {},
   "source": [
    "Spliting the datat into training and test using sklearns train_test_split"
   ]
  },
  {
   "cell_type": "code",
   "execution_count": null,
   "metadata": {},
   "outputs": [],
   "source": [
    "from sklearn.model_selection import train_test_split\n",
    "train, test = train_test_split(auto, test_size=0.5)"
   ]
  },
  {
   "cell_type": "markdown",
   "metadata": {},
   "source": [
    "Fit first order polynomial"
   ]
  },
  {
   "cell_type": "code",
   "execution_count": null,
   "metadata": {},
   "outputs": [],
   "source": [
    "from statsmodels.formula.api import ols\n",
    "lr = ols(formula=\"mpg ~ horsepower\", data=train).fit()\n",
    "np.mean((test[\"mpg\"] - lr.predict(test)) ** 2)"
   ]
  },
  {
   "cell_type": "markdown",
   "metadata": {},
   "source": [
    "Fit a second order polynomial"
   ]
  },
  {
   "cell_type": "code",
   "execution_count": null,
   "metadata": {},
   "outputs": [],
   "source": [
    "def poly(x, p):\n",
    "    x = np.array(x)\n",
    "    x = np.transpose(np.vstack((x ** k for k in range(p + 1))))\n",
    "    x = np.linalg.qr(x)[0][:, 1:]\n",
    "    return x\n",
    "\n",
    "lr2 = ols(formula=\"mpg ~ poly(horsepower, 2)\", data=train).fit()\n",
    "np.mean((test[\"mpg\"] - lr2.predict(test)) ** 2)"
   ]
  },
  {
   "cell_type": "markdown",
   "metadata": {},
   "source": [
    "Fit a third order polynomial"
   ]
  },
  {
   "cell_type": "code",
   "execution_count": null,
   "metadata": {},
   "outputs": [],
   "source": [
    "lr3 = ols(formula=\"mpg ~ poly(horsepower, 3)\", data=train).fit()\n",
    "np.mean((test[\"mpg\"] - lr3.predict(test)) ** 2)"
   ]
  },
  {
   "cell_type": "code",
   "execution_count": null,
   "metadata": {},
   "outputs": [],
   "source": [
    "test = test.sort_values(by=\"horsepower\")\n",
    "\n",
    "\n",
    "ax = auto.plot.scatter(\"horsepower\", \"mpg\", s=40, c=\"black\")\n",
    "ax.scatter(train[\"horsepower\"], train[\"mpg\"], c=\"red\")\n",
    "ax.plot(test[\"horsepower\"], lr.predict(test), lw=3)\n",
    "ax.plot(test[\"horsepower\"], lr2.predict(test), c=\"green\")\n",
    "ax.plot(test[\"horsepower\"], lr3.predict(test), c=\"yellow\")"
   ]
  },
  {
   "cell_type": "markdown",
   "metadata": {},
   "source": [
    "### k-Fold Cross-Validation\n",
    "Here we are going to do the k-Fold Cross-Validation"
   ]
  },
  {
   "cell_type": "code",
   "execution_count": null,
   "metadata": {},
   "outputs": [],
   "source": [
    "from sklearn.model_selection import cross_val_score\n",
    "from sklearn.linear_model import LinearRegression\n",
    "import sklearn\n",
    "np.random.seed(1)\n",
    "\n",
    "\n",
    "cv_error = np.zeros(10)\n",
    "\n",
    "y = np.asarray(auto[\"mpg\"]).reshape(-1, 1)\n",
    "\n",
    "for i in range(1, 11):\n",
    "    x = np.asarray(poly(auto[\"horsepower\"], i))\n",
    "\n",
    "    scores = cross_val_score(LinearRegression(), x, y, cv=10, scoring=\"neg_mean_squared_error\")\n",
    "    cv_error[i - 1] =-np.mean(scores)\n",
    "cv_error"
   ]
  },
  {
   "cell_type": "code",
   "execution_count": null,
   "metadata": {},
   "outputs": [],
   "source": [
    "plt.plot(range(1, 11), cv_error)\n",
    "plt.xlabel(\"Order\")\n",
    "plt.ylabel(\"Error\")"
   ]
  },
  {
   "cell_type": "markdown",
   "metadata": {},
   "source": [
    "### The Bootstrap\n",
    "\n",
    "Let’s bootstrap some “data set”.\n",
    "\n",
    "A function to calculate the optimal value (minimum variance)"
   ]
  },
  {
   "cell_type": "code",
   "execution_count": null,
   "metadata": {},
   "outputs": [],
   "source": [
    "portfolio = pd.read_csv(\"Portfolio.csv\") "
   ]
  },
  {
   "cell_type": "code",
   "execution_count": null,
   "metadata": {},
   "outputs": [],
   "source": [
    "def alpha(x, y):\n",
    "    return ((np.var(y) - np.cov(x, y)) / (np.var(x) + np.var(y) - 2 * np.cov(x, y)))[0, 1]"
   ]
  },
  {
   "cell_type": "markdown",
   "metadata": {},
   "source": [
    "check the function"
   ]
  },
  {
   "cell_type": "code",
   "execution_count": null,
   "metadata": {},
   "outputs": [],
   "source": [
    "alpha(portfolio[\"X\"], portfolio[\"Y\"])"
   ]
  },
  {
   "cell_type": "code",
   "execution_count": null,
   "metadata": {},
   "outputs": [],
   "source": [
    "portfolio_100 = portfolio[:100]\n",
    "alpha(portfolio_100[\"X\"], portfolio_100[\"Y\"])"
   ]
  },
  {
   "cell_type": "markdown",
   "metadata": {},
   "source": [
    "one iteration"
   ]
  },
  {
   "cell_type": "code",
   "execution_count": null,
   "metadata": {},
   "outputs": [],
   "source": [
    "np.random.seed(1)\n",
    "portfolio_sample = portfolio.sample(100, replace=True)\n",
    "alpha(portfolio_sample[\"X\"], portfolio_sample[\"Y\"])"
   ]
  },
  {
   "cell_type": "markdown",
   "metadata": {},
   "source": [
    "the bootstrap"
   ]
  },
  {
   "cell_type": "code",
   "execution_count": null,
   "metadata": {},
   "outputs": [],
   "source": [
    "portfolio_sample = portfolio.sample(100, replace=True)\n",
    "samples = [portfolio.sample(len(portfolio), replace=True) for _ in range(1000)]\n",
    "alphas = [alpha(p[\"X\"], p[\"Y\"]) for p in samples]\n",
    "\n",
    "pd.DataFrame({\"a\": alphas}).describe()"
   ]
  },
  {
   "cell_type": "code",
   "execution_count": null,
   "metadata": {},
   "outputs": [],
   "source": [
    "plt.hist(alphas, bins=20, density=True)\n",
    "plt.xlabel(\"alpha\")\n",
    "plt.ylabel(\"Density\")\n",
    "plt.title(\"Histogram of alpha\")"
   ]
  },
  {
   "cell_type": "markdown",
   "metadata": {},
   "source": [
    "### Estimating the accuracy of a linear regression model\n",
    "\n",
    "For the Auto data set, we want to use bootstrap to estimate the accuracy of the linear regression model"
   ]
  },
  {
   "cell_type": "code",
   "execution_count": null,
   "metadata": {},
   "outputs": [],
   "source": [
    "def boot_func(data):\n",
    "    lr = ols(formula=\"mpg ~ horsepower\", data=data).fit()\n",
    "    return lr.params"
   ]
  },
  {
   "cell_type": "code",
   "execution_count": null,
   "metadata": {},
   "outputs": [],
   "source": [
    "boot_func(auto[:392])"
   ]
  },
  {
   "cell_type": "code",
   "execution_count": null,
   "metadata": {},
   "outputs": [],
   "source": [
    "boot_func(auto.sample(392, replace=True))"
   ]
  },
  {
   "cell_type": "markdown",
   "metadata": {},
   "source": [
    "Perform bootstrapping, and summarize the result"
   ]
  },
  {
   "cell_type": "code",
   "execution_count": null,
   "metadata": {},
   "outputs": [],
   "source": [
    "samples = [auto.sample(len(auto), replace=True) for _ in range(100)]\n",
    "intercepts, slopes = zip(*[boot_func(s) for s in samples])\n",
    "pd.DataFrame({\"intercept\": intercepts, \"slope\": slopes}).describe()"
   ]
  }
 ],
 "metadata": {
  "kernelspec": {
   "display_name": "Python 3",
   "language": "python",
   "name": "python3"
  },
  "language_info": {
   "codemirror_mode": {
    "name": "ipython",
    "version": 3
   },
   "file_extension": ".py",
   "mimetype": "text/x-python",
   "name": "python",
   "nbconvert_exporter": "python",
   "pygments_lexer": "ipython3",
   "version": "3.6.8"
  }
 },
 "nbformat": 4,
 "nbformat_minor": 4
}
